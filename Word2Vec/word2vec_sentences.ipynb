{
 "cells": [
  {
   "cell_type": "code",
   "execution_count": 1,
   "metadata": {},
   "outputs": [],
   "source": [
    "import pandas as pd\n",
    "import numpy as np\n",
    "import matplotlib.pyplot as plt\n",
    "import re\n",
    "import urllib.request\n",
    "from gensim.models.word2vec import Word2Vec\n",
    "from konlpy.tag import Okt"
   ]
  },
  {
   "cell_type": "code",
   "execution_count": 14,
   "metadata": {},
   "outputs": [],
   "source": [
    "train_data = pd.read_table('sentences.txt')"
   ]
  },
  {
   "cell_type": "code",
   "execution_count": 15,
   "metadata": {},
   "outputs": [
    {
     "data": {
      "text/html": [
       "<div>\n",
       "<style scoped>\n",
       "    .dataframe tbody tr th:only-of-type {\n",
       "        vertical-align: middle;\n",
       "    }\n",
       "\n",
       "    .dataframe tbody tr th {\n",
       "        vertical-align: top;\n",
       "    }\n",
       "\n",
       "    .dataframe thead th {\n",
       "        text-align: right;\n",
       "    }\n",
       "</style>\n",
       "<table border=\"1\" class=\"dataframe\">\n",
       "  <thead>\n",
       "    <tr style=\"text-align: right;\">\n",
       "      <th></th>\n",
       "      <th>Chapter</th>\n",
       "    </tr>\n",
       "  </thead>\n",
       "  <tbody>\n",
       "    <tr>\n",
       "      <th>0</th>\n",
       "      <td>Structures (구조)</td>\n",
       "    </tr>\n",
       "    <tr>\n",
       "      <th>1</th>\n",
       "      <td>Operating System Concepts – 10th Edition</td>\n",
       "    </tr>\n",
       "    <tr>\n",
       "      <th>2</th>\n",
       "      <td>Silberschatz, Galvin and Gagne ©2018Chapter 2:...</td>\n",
       "    </tr>\n",
       "    <tr>\n",
       "      <th>3</th>\n",
       "      <td>❖ 운영체제 서비스 (Operating System Services)</td>\n",
       "    </tr>\n",
       "    <tr>\n",
       "      <th>4</th>\n",
       "      <td>❖ 운영체제 사용자 인터페이스 (User Operating System Interf...</td>\n",
       "    </tr>\n",
       "  </tbody>\n",
       "</table>\n",
       "</div>"
      ],
      "text/plain": [
       "                                             Chapter\n",
       "0                                    Structures (구조)\n",
       "1           Operating System Concepts – 10th Edition\n",
       "2  Silberschatz, Galvin and Gagne ©2018Chapter 2:...\n",
       "3             ❖ 운영체제 서비스 (Operating System Services)\n",
       "4  ❖ 운영체제 사용자 인터페이스 (User Operating System Interf..."
      ]
     },
     "execution_count": 15,
     "metadata": {},
     "output_type": "execute_result"
    }
   ],
   "source": [
    "train_data[:5] # 상위 5개 출력"
   ]
  },
  {
   "cell_type": "code",
   "execution_count": 16,
   "metadata": {},
   "outputs": [
    {
     "name": "stdout",
     "output_type": "stream",
     "text": [
      "891\n"
     ]
    }
   ],
   "source": [
    "print(len(train_data)) # 리뷰 개수 출력"
   ]
  },
  {
   "cell_type": "code",
   "execution_count": 17,
   "metadata": {},
   "outputs": [
    {
     "name": "stdout",
     "output_type": "stream",
     "text": [
      "False\n"
     ]
    }
   ],
   "source": [
    "# NULL 값 존재 유무\n",
    "print(train_data.isnull().values.any())"
   ]
  },
  {
   "cell_type": "code",
   "execution_count": 18,
   "metadata": {},
   "outputs": [
    {
     "name": "stdout",
     "output_type": "stream",
     "text": [
      "False\n"
     ]
    }
   ],
   "source": [
    "train_data = train_data.dropna(how = 'any') # Null 값이 존재하는 행 제거\n",
    "print(train_data.isnull().values.any()) # Null 값이 존재하는지 확인"
   ]
  },
  {
   "cell_type": "code",
   "execution_count": 19,
   "metadata": {},
   "outputs": [
    {
     "name": "stdout",
     "output_type": "stream",
     "text": [
      "891\n"
     ]
    }
   ],
   "source": [
    "print(len(train_data)) # 리뷰 개수 출력"
   ]
  },
  {
   "cell_type": "code",
   "execution_count": 8,
   "metadata": {},
   "outputs": [],
   "source": [
    "# 정규 표현식을 통한 한글 외 문자 제거 -> 중요 키워드는 오히려 영어 로마자로 되어 있는 경우 있으므로 지우면 안됨!\n",
    "# train_data['Chapter'] = train_data['Chapter'].str.replace(\"[^ㄱ-ㅎㅏ-ㅣ가-힣 ]\",\"\")"
   ]
  },
  {
   "cell_type": "code",
   "execution_count": 20,
   "metadata": {},
   "outputs": [
    {
     "data": {
      "text/html": [
       "<div>\n",
       "<style scoped>\n",
       "    .dataframe tbody tr th:only-of-type {\n",
       "        vertical-align: middle;\n",
       "    }\n",
       "\n",
       "    .dataframe tbody tr th {\n",
       "        vertical-align: top;\n",
       "    }\n",
       "\n",
       "    .dataframe thead th {\n",
       "        text-align: right;\n",
       "    }\n",
       "</style>\n",
       "<table border=\"1\" class=\"dataframe\">\n",
       "  <thead>\n",
       "    <tr style=\"text-align: right;\">\n",
       "      <th></th>\n",
       "      <th>Chapter</th>\n",
       "    </tr>\n",
       "  </thead>\n",
       "  <tbody>\n",
       "    <tr>\n",
       "      <th>0</th>\n",
       "      <td>Structures (구조)</td>\n",
       "    </tr>\n",
       "    <tr>\n",
       "      <th>1</th>\n",
       "      <td>Operating System Concepts – 10th Edition</td>\n",
       "    </tr>\n",
       "    <tr>\n",
       "      <th>2</th>\n",
       "      <td>Silberschatz, Galvin and Gagne ©2018Chapter 2:...</td>\n",
       "    </tr>\n",
       "    <tr>\n",
       "      <th>3</th>\n",
       "      <td>❖ 운영체제 서비스 (Operating System Services)</td>\n",
       "    </tr>\n",
       "    <tr>\n",
       "      <th>4</th>\n",
       "      <td>❖ 운영체제 사용자 인터페이스 (User Operating System Interf...</td>\n",
       "    </tr>\n",
       "    <tr>\n",
       "      <th>...</th>\n",
       "      <td>...</td>\n",
       "    </tr>\n",
       "    <tr>\n",
       "      <th>886</th>\n",
       "      <td>2.63</td>\n",
       "    </tr>\n",
       "    <tr>\n",
       "      <th>887</th>\n",
       "      <td>Silberschatz, Galvin and Gagne ©2018</td>\n",
       "    </tr>\n",
       "    <tr>\n",
       "      <th>888</th>\n",
       "      <td>Silberschatz, Galvin and Gagne ©2018End of Cha...</td>\n",
       "    </tr>\n",
       "    <tr>\n",
       "      <th>889</th>\n",
       "      <td>Operating System Concepts – 10th Edition</td>\n",
       "    </tr>\n",
       "    <tr>\n",
       "      <th>890</th>\n",
       "      <td>Silberschatz, Galvin and Gagne ©2018</td>\n",
       "    </tr>\n",
       "  </tbody>\n",
       "</table>\n",
       "<p>891 rows × 1 columns</p>\n",
       "</div>"
      ],
      "text/plain": [
       "                                               Chapter\n",
       "0                                      Structures (구조)\n",
       "1             Operating System Concepts – 10th Edition\n",
       "2    Silberschatz, Galvin and Gagne ©2018Chapter 2:...\n",
       "3               ❖ 운영체제 서비스 (Operating System Services)\n",
       "4    ❖ 운영체제 사용자 인터페이스 (User Operating System Interf...\n",
       "..                                                 ...\n",
       "886                                               2.63\n",
       "887               Silberschatz, Galvin and Gagne ©2018\n",
       "888  Silberschatz, Galvin and Gagne ©2018End of Cha...\n",
       "889           Operating System Concepts – 10th Edition\n",
       "890               Silberschatz, Galvin and Gagne ©2018\n",
       "\n",
       "[891 rows x 1 columns]"
      ]
     },
     "execution_count": 20,
     "metadata": {},
     "output_type": "execute_result"
    }
   ],
   "source": [
    "train_data[0:] # 상위 5개 출력"
   ]
  },
  {
   "cell_type": "code",
   "execution_count": 21,
   "metadata": {},
   "outputs": [
    {
     "name": "stdout",
     "output_type": "stream",
     "text": [
      "False\n"
     ]
    }
   ],
   "source": [
    "# NULL 값 존재 유무\n",
    "print(train_data.isnull().values.any())"
   ]
  },
  {
   "cell_type": "code",
   "execution_count": 22,
   "metadata": {},
   "outputs": [],
   "source": [
    "# 불용어 정의\n",
    "stopwords = ['의','가','이','은','들','는','좀','잘','걍','과','도','를','으로','자','에','와','한','하다']\n",
    "\n",
    "# 형태소 분석기 OKT를 사용한 토큰화 작업 (다소 시간 소요)\n",
    "okt = Okt()\n",
    "\n",
    "# 좀 시간 걸릴수 있음\n",
    "tokenized_data = []\n",
    "for sentence in train_data['Chapter']:\n",
    "    tokenized_sentence = okt.morphs(sentence, stem=True) # 토큰화\n",
    "    stopwords_removed_sentence = [word for word in tokenized_sentence if not word in stopwords] # 불용어 제거\n",
    "    tokenized_data.append(stopwords_removed_sentence)"
   ]
  },
  {
   "cell_type": "code",
   "execution_count": 23,
   "metadata": {},
   "outputs": [
    {
     "name": "stdout",
     "output_type": "stream",
     "text": [
      "리뷰의 최대 길이 : 31\n",
      "리뷰의 평균 길이 : 6.780022446689113\n"
     ]
    },
    {
     "data": {
      "image/png": "[encoded data removed]",
      "text/plain": [
       "<Figure size 640x480 with 1 Axes>"
      ]
     },
     "metadata": {},
     "output_type": "display_data"
    }
   ],
   "source": [
    "# 리뷰 길이 분포 확인\n",
    "print('리뷰의 최대 길이 :',max(len(review) for review in tokenized_data))\n",
    "print('리뷰의 평균 길이 :',sum(map(len, tokenized_data))/len(tokenized_data))\n",
    "plt.hist([len(review) for review in tokenized_data], bins=50)\n",
    "plt.xlabel('length of samples')\n",
    "plt.ylabel('number of samples')\n",
    "plt.show()"
   ]
  },
  {
   "cell_type": "code",
   "execution_count": 24,
   "metadata": {},
   "outputs": [
    {
     "data": {
      "text/plain": [
       "[['Structures', '(', '구조', ')'],\n",
       " ['Operating', 'System', 'Concepts', '–', '10', 'th', 'Edition'],\n",
       " ['Silberschatz',\n",
       "  ',',\n",
       "  'Galvin',\n",
       "  'and',\n",
       "  'Gagne',\n",
       "  '©',\n",
       "  '2018',\n",
       "  'Chapter',\n",
       "  '2',\n",
       "  ':',\n",
       "  'Operating',\n",
       "  '-',\n",
       "  'System',\n",
       "  'Structures'],\n",
       " ['❖', '운영체제', '서비스', '(', 'Operating', 'System', 'Services', ')'],\n",
       " ['❖',\n",
       "  '운영체제',\n",
       "  '사용자',\n",
       "  '인터페이스',\n",
       "  '(',\n",
       "  'User',\n",
       "  'Operating',\n",
       "  'System',\n",
       "  'Interface',\n",
       "  ')']]"
      ]
     },
     "execution_count": 24,
     "metadata": {},
     "output_type": "execute_result"
    }
   ],
   "source": [
    "tokenized_data[:5] # 상위 5개 출력"
   ]
  },
  {
   "cell_type": "code",
   "execution_count": 25,
   "metadata": {},
   "outputs": [],
   "source": [
    "from gensim.models import Word2Vec\n",
    "model = Word2Vec(sentences = tokenized_data, vector_size = 100, window = 5, min_count = 5, workers = 4, sg = 0)"
   ]
  },
  {
   "cell_type": "code",
   "execution_count": 26,
   "metadata": {},
   "outputs": [
    {
     "data": {
      "text/plain": [
       "(170, 100)"
      ]
     },
     "execution_count": 26,
     "metadata": {},
     "output_type": "execute_result"
    }
   ],
   "source": [
    "# 완성된 임베딩 매트릭스의 크기 확인\n",
    "model.wv.vectors.shape"
   ]
  },
  {
   "cell_type": "code",
   "execution_count": 27,
   "metadata": {},
   "outputs": [
    {
     "data": {
      "text/plain": [
       "numpy.ndarray"
      ]
     },
     "execution_count": 27,
     "metadata": {},
     "output_type": "execute_result"
    }
   ],
   "source": [
    "type(model.wv.vectors)"
   ]
  },
  {
   "cell_type": "code",
   "execution_count": 28,
   "metadata": {},
   "outputs": [
    {
     "name": "stdout",
     "output_type": "stream",
     "text": [
      "[('운영체제', 0.9479154348373413), ('인', 0.944948673248291), ('되다', 0.9446166753768921), (',', 0.9445696473121643), (':', 0.9442222118377686), ('OS', 0.9437145590782166), ('(', 0.9431517124176025), (')', 0.941857635974884), ('적재', 0.9407109022140503), ('l', 0.9405134916305542)]\n"
     ]
    }
   ],
   "source": [
    "# '자원'과 유사한 단어들 뽑아보기\n",
    "print(model.wv.most_similar(\"자원\"))"
   ]
  },
  {
   "cell_type": "code",
   "execution_count": 30,
   "metadata": {},
   "outputs": [
    {
     "name": "stdout",
     "output_type": "stream",
     "text": [
      "[(',', 0.9531847834587097), ('을', 0.9524460434913635), (')', 0.9510533213615417), ('l', 0.9504212141036987), ('(', 0.9497171640396118), ('운영체제', 0.9490477442741394), ('시스템', 0.9485232830047607), ('Silberschatz', 0.9470431804656982), ('커널', 0.946779727935791), ('Gagne', 0.9463653564453125)]\n"
     ]
    }
   ],
   "source": [
    "# 'API'과 유사한 단어들 뽑아보기\n",
    "print(model.wv.most_similar(\"API\"))"
   ]
  },
  {
   "cell_type": "code",
   "execution_count": null,
   "metadata": {},
   "outputs": [],
   "source": [
    "word_vectors = model.wv # 벡터화된 문장들\n",
    "vocabs = word_vectors.vocab.keys() # 단어들\n",
    "word_vectors_list = [word_vectors[v] for v in vocabs]"
   ]
  },
  {
   "cell_type": "code",
   "execution_count": null,
   "metadata": {},
   "outputs": [],
   "source": [
    "import matplotlib.pyplot as plt\n",
    "plt.figure(figsize=(5, 5))\n",
    "plt.plot([0, 1], [0, 1], label=\"test\")\n",
    "plt.legend()\n",
    "plt.show()"
   ]
  },
  {
   "cell_type": "code",
   "execution_count": 31,
   "metadata": {},
   "outputs": [],
   "source": [
    "from sklearn.cluster import KMeans\n",
    "import numpy as np\n",
    "# 랜덤하게 실행되는 부분들에 대해 다음에 실행해도 동일한 결과를 얻기 위해 설정\n",
    "seed = 11\n",
    "rng = np.random.default_rng(seed)\n",
    "\n",
    "k = 5\n",
    "kmeans = KMeans(n_clusters=k, random_state=seed) # k-평균++ 초기화 사용"
   ]
  },
  {
   "cell_type": "code",
   "execution_count": 32,
   "metadata": {},
   "outputs": [
    {
     "data": {
      "text/plain": [
       "array([1, 1, 2, 1, 2, 3, 3, 0, 0, 3, 3, 3, 3, 0, 0, 0, 3, 2, 1, 3, 3, 2,\n",
       "       3, 2, 2, 3, 3, 3, 2, 2, 2, 2, 2, 3, 2, 3, 2, 0, 3, 2, 2, 3, 3, 3,\n",
       "       2, 2, 2, 2, 3, 2, 2, 2, 4, 2, 0, 2, 2, 3, 2, 2, 2, 2, 2, 0, 2, 2,\n",
       "       2, 0, 0, 2, 0, 0, 2, 0, 2, 2, 4, 2, 2, 2, 2, 0, 0, 2, 0, 2, 2, 0,\n",
       "       2, 4, 0, 0, 2, 2, 2, 0, 2, 0, 0, 0, 0, 0, 0, 0, 0, 0, 0, 4, 0, 4,\n",
       "       0, 0, 0, 0, 0, 0, 0, 4, 4, 4, 4, 4, 2, 2, 4, 4, 4, 4, 4, 4, 4, 0,\n",
       "       4, 0, 4, 4, 4, 4, 4, 0, 4, 4, 0, 4, 4, 4, 0, 4, 4, 4, 0, 4, 0, 0,\n",
       "       0, 0, 0, 0, 4, 4, 4, 4, 4, 4, 4, 4, 4, 4, 4, 0])"
      ]
     },
     "execution_count": 32,
     "metadata": {},
     "output_type": "execute_result"
    }
   ],
   "source": [
    "y_pred = kmeans.fit_predict(model.wv.vectors) # 클러스터링 결과 각 샘플의 클러스터 레이블을 리턴 받으려면 fit_predict 사용\n",
    "y_pred"
   ]
  },
  {
   "cell_type": "code",
   "execution_count": 33,
   "metadata": {},
   "outputs": [
    {
     "data": {
      "text/plain": [
       "KMeans(n_clusters=5, random_state=11)"
      ]
     },
     "execution_count": 33,
     "metadata": {},
     "output_type": "execute_result"
    }
   ],
   "source": [
    "kmeans.fit(model.wv.vectors) # 클러스터링을 수행하고 그 결과를 객체의 속성에 저장하는 것까지만 수행하려면 fit 사용"
   ]
  },
  {
   "cell_type": "code",
   "execution_count": 34,
   "metadata": {},
   "outputs": [
    {
     "data": {
      "text/plain": [
       "array([1, 1, 2, 1, 2, 3, 3, 0, 0, 3, 3, 3, 3, 0, 0, 0, 3, 2, 1, 3, 3, 2,\n",
       "       3, 2, 2, 3, 3, 3, 2, 2, 2, 2, 2, 3, 2, 3, 2, 0, 3, 2, 2, 3, 3, 3,\n",
       "       2, 2, 2, 2, 3, 2, 2, 2, 4, 2, 0, 2, 2, 3, 2, 2, 2, 2, 2, 0, 2, 2,\n",
       "       2, 0, 0, 2, 0, 0, 2, 0, 2, 2, 4, 2, 2, 2, 2, 0, 0, 2, 0, 2, 2, 0,\n",
       "       2, 4, 0, 0, 2, 2, 2, 0, 2, 0, 0, 0, 0, 0, 0, 0, 0, 0, 0, 4, 0, 4,\n",
       "       0, 0, 0, 0, 0, 0, 0, 4, 4, 4, 4, 4, 2, 2, 4, 4, 4, 4, 4, 4, 4, 0,\n",
       "       4, 0, 4, 4, 4, 4, 4, 0, 4, 4, 0, 4, 4, 4, 0, 4, 4, 4, 0, 4, 0, 0,\n",
       "       0, 0, 0, 0, 4, 4, 4, 4, 4, 4, 4, 4, 4, 4, 4, 0])"
      ]
     },
     "execution_count": 34,
     "metadata": {},
     "output_type": "execute_result"
    }
   ],
   "source": [
    "kmeans.labels_ # 클러스터링 수행 결과가 labels_ 속성에 저장됨"
   ]
  },
  {
   "cell_type": "code",
   "execution_count": 35,
   "metadata": {},
   "outputs": [
    {
     "data": {
      "text/plain": [
       "array([[-1.64572999e-03,  1.61261880e-03, -4.42165928e-03,\n",
       "        -2.49446020e-04,  1.19351069e-04, -3.14263441e-02,\n",
       "         2.64652707e-02,  4.86933812e-02, -2.37152837e-02,\n",
       "        -1.09495036e-02, -8.77468847e-03, -2.75464579e-02,\n",
       "        -1.82388443e-03,  1.83338523e-02,  2.68221763e-03,\n",
       "        -8.49029399e-04,  1.66997984e-02, -1.20555731e-02,\n",
       "        -8.80276877e-03, -4.72267903e-02,  1.41533129e-02,\n",
       "         4.93880734e-03,  4.03997116e-03, -1.81828104e-02,\n",
       "        -9.23796929e-03,  2.84647918e-04, -1.46428254e-02,\n",
       "        -2.03463379e-02, -1.18093546e-02,  1.94801320e-03,\n",
       "         3.04434989e-02, -2.20854790e-03,  1.81865357e-02,\n",
       "        -3.01253032e-02, -9.81119834e-03,  3.02208904e-02,\n",
       "         3.82384332e-03, -9.11317207e-03,  6.72112103e-04,\n",
       "        -2.90810652e-02,  1.22586014e-02, -2.28550937e-02,\n",
       "        -7.57969543e-03,  1.04086176e-02,  1.78980734e-02,\n",
       "        -1.51730352e-03, -1.86953358e-02, -6.19004713e-03,\n",
       "         1.67878456e-02,  9.24798753e-03,  7.87998363e-03,\n",
       "        -1.85136013e-02,  4.12668241e-03,  2.04528077e-03,\n",
       "        -4.27513476e-03,  1.46356374e-02,  7.97249749e-03,\n",
       "         2.66160537e-03, -1.52628496e-02,  1.58724468e-02,\n",
       "         7.66054075e-03,  3.29391565e-03,  1.23230591e-02,\n",
       "         3.65287764e-03, -1.95751879e-02,  3.51065323e-02,\n",
       "         7.58611225e-03,  3.07232365e-02, -2.66104676e-02,\n",
       "         3.05308104e-02, -7.33028911e-03,  1.12678846e-02,\n",
       "         1.60721485e-02, -3.61692184e-03,  3.17587070e-02,\n",
       "         1.74156856e-03,  5.26994583e-04,  1.11982571e-02,\n",
       "        -1.62422881e-02,  3.35982721e-03, -1.87189858e-02,\n",
       "         1.07168267e-02, -2.97664516e-02,  3.69769298e-02,\n",
       "        -1.20797455e-02, -7.69974384e-03,  2.71482430e-02,\n",
       "         2.21757349e-02,  2.43602209e-02,  4.11287323e-03,\n",
       "         2.75660045e-02,  1.23053966e-02,  1.54868094e-03,\n",
       "         1.25311529e-02,  3.20614614e-02,  1.24815470e-02,\n",
       "         1.38786789e-02, -1.49866547e-02,  6.53059175e-03,\n",
       "        -3.63575295e-03],\n",
       "       [-1.04711484e-02,  5.50201535e-03, -1.47648025e-02,\n",
       "         1.29262824e-03,  3.13612283e-03, -1.27023518e-01,\n",
       "         9.97604877e-02,  2.00119346e-01, -8.68498534e-02,\n",
       "        -5.31952009e-02, -3.03082895e-02, -1.06662706e-01,\n",
       "        -3.77834775e-03,  7.74101466e-02,  1.51920784e-02,\n",
       "        -3.01833800e-03,  6.85536265e-02, -4.67242002e-02,\n",
       "        -3.87649350e-02, -1.79173931e-01,  5.92233017e-02,\n",
       "         1.61538664e-02,  2.24286392e-02, -7.04728737e-02,\n",
       "        -2.97774840e-02, -1.37965765e-03, -6.49837554e-02,\n",
       "        -6.72723800e-02, -4.07685824e-02,  1.12421326e-02,\n",
       "         1.21600077e-01, -7.85257760e-03,  6.92431331e-02,\n",
       "        -1.22587472e-01, -3.77332680e-02,  1.16798162e-01,\n",
       "         2.37997454e-02, -3.36801857e-02,  7.34324381e-03,\n",
       "        -1.14564836e-01,  4.27970812e-02, -8.34198892e-02,\n",
       "        -2.45831795e-02,  3.07976492e-02,  6.61232248e-02,\n",
       "        -7.42507540e-03, -7.34594613e-02, -1.72812697e-02,\n",
       "         6.50962815e-02,  4.15992960e-02,  2.76612137e-02,\n",
       "        -7.30525553e-02,  7.46041723e-03,  5.66674955e-03,\n",
       "        -6.84988964e-03,  5.52520789e-02,  3.93295996e-02,\n",
       "         1.16074113e-02, -5.61437160e-02,  6.44882768e-02,\n",
       "         2.68325172e-02,  1.63757503e-02,  5.58695570e-02,\n",
       "         9.83704347e-03, -7.81430975e-02,  1.37921050e-01,\n",
       "         2.97102854e-02,  1.15728751e-01, -1.01223499e-01,\n",
       "         1.15316302e-01, -1.92346200e-02,  4.19865064e-02,\n",
       "         6.51494190e-02, -9.52563621e-03,  1.25958636e-01,\n",
       "        -5.39970491e-03,  4.22306359e-03,  4.47674841e-02,\n",
       "        -6.34806231e-02,  5.19738765e-03, -7.65331313e-02,\n",
       "         4.75542210e-02, -1.14627436e-01,  1.45274192e-01,\n",
       "        -4.72479463e-02, -3.29191685e-02,  1.06492087e-01,\n",
       "         7.81775415e-02,  9.03776810e-02,  1.41312266e-02,\n",
       "         1.08926535e-01,  4.22647968e-02,  1.11346934e-02,\n",
       "         4.69602048e-02,  1.31507650e-01,  5.39587475e-02,\n",
       "         4.80633527e-02, -6.36572167e-02,  1.85284801e-02,\n",
       "        -1.25648128e-02],\n",
       "       [-3.56622552e-03,  2.82343011e-03, -7.03904219e-03,\n",
       "        -2.30464293e-03,  1.16441480e-03, -5.08560278e-02,\n",
       "         3.88230793e-02,  8.02673995e-02, -3.42379771e-02,\n",
       "        -1.92829650e-02, -1.46982837e-02, -4.35148925e-02,\n",
       "        -4.88571124e-04,  3.02926730e-02,  5.85006922e-03,\n",
       "        -2.08663265e-03,  2.48843841e-02, -2.18263734e-02,\n",
       "        -1.48316063e-02, -7.46130645e-02,  2.31189299e-02,\n",
       "         7.51086092e-03,  6.45448780e-03, -2.92200148e-02,\n",
       "        -1.30310711e-02, -8.32099176e-05, -2.73022410e-02,\n",
       "        -3.02961431e-02, -1.76266804e-02,  4.36849240e-03,\n",
       "         4.90363538e-02, -1.17177074e-03,  2.90529355e-02,\n",
       "        -4.96578887e-02, -1.65575556e-02,  4.76970784e-02,\n",
       "         6.12356653e-03, -1.38871819e-02,  2.41230056e-03,\n",
       "        -4.82243635e-02,  1.70177836e-02, -3.38131450e-02,\n",
       "        -7.95883778e-03,  1.19340532e-02,  2.86409445e-02,\n",
       "        -4.38494282e-03, -2.99930498e-02, -7.47095514e-03,\n",
       "         2.56068334e-02,  1.66234504e-02,  1.10579897e-02,\n",
       "        -2.83004977e-02,  6.18206803e-03,  2.81621795e-03,\n",
       "        -1.63306622e-03,  2.03157384e-02,  1.50577668e-02,\n",
       "         4.13403474e-03, -2.45436002e-02,  2.54275799e-02,\n",
       "         1.38086881e-02,  4.44776984e-03,  2.15481520e-02,\n",
       "         4.96755727e-03, -3.19842286e-02,  5.53597435e-02,\n",
       "         1.17540732e-02,  4.59483787e-02, -4.17208746e-02,\n",
       "         4.86357473e-02, -9.97594465e-03,  1.74460523e-02,\n",
       "         2.62953863e-02, -4.81233746e-03,  5.16532511e-02,\n",
       "        -5.17440727e-04,  2.18348834e-03,  1.76453087e-02,\n",
       "        -2.38146391e-02,  3.55268968e-03, -2.93452851e-02,\n",
       "         1.82724297e-02, -5.09790145e-02,  5.92184328e-02,\n",
       "        -1.96755175e-02, -1.33298626e-02,  4.35788408e-02,\n",
       "         3.40904035e-02,  3.83635797e-02,  7.85828289e-03,\n",
       "         4.61964086e-02,  1.86061170e-02,  4.24247188e-03,\n",
       "         1.90944336e-02,  5.27900569e-02,  2.17661411e-02,\n",
       "         1.85259189e-02, -2.40125749e-02,  8.15192144e-03,\n",
       "        -7.04325084e-03],\n",
       "       [-4.14227229e-03,  2.51391903e-03, -9.75090452e-03,\n",
       "        -1.87222240e-03,  6.45110675e-04, -7.58789331e-02,\n",
       "         5.94603419e-02,  1.19986594e-01, -5.19673936e-02,\n",
       "        -3.15956771e-02, -1.92893632e-02, -6.47689104e-02,\n",
       "        -2.12159194e-03,  4.69958223e-02,  5.74250054e-03,\n",
       "        -2.85385456e-03,  3.92434113e-02, -3.08459103e-02,\n",
       "        -2.19123904e-02, -1.12899333e-01,  3.29592638e-02,\n",
       "         1.06059052e-02,  1.07132206e-02, -4.30467352e-02,\n",
       "        -2.03194153e-02, -2.59377854e-03, -3.91466469e-02,\n",
       "        -4.43902388e-02, -2.47872695e-02,  7.42446631e-03,\n",
       "         7.42250085e-02, -3.77928093e-03,  4.34008986e-02,\n",
       "        -7.34728724e-02, -2.46059075e-02,  7.20411986e-02,\n",
       "         9.82124172e-03, -2.09989958e-02,  2.39642267e-03,\n",
       "        -7.42562637e-02,  2.64162831e-02, -5.13124131e-02,\n",
       "        -1.62160024e-02,  1.88720338e-02,  3.93197909e-02,\n",
       "        -8.63477495e-03, -4.53138426e-02, -1.24784969e-02,\n",
       "         3.79918665e-02,  2.70901825e-02,  1.81488786e-02,\n",
       "        -4.48944569e-02,  5.75552834e-03,  4.77922009e-03,\n",
       "        -4.39077476e-03,  3.33694890e-02,  2.19763890e-02,\n",
       "         3.58836888e-03, -3.80377658e-02,  3.56107429e-02,\n",
       "         1.62195470e-02,  6.09543454e-03,  3.60069871e-02,\n",
       "         7.05061108e-03, -5.06624989e-02,  8.52747560e-02,\n",
       "         1.49082234e-02,  6.69389144e-02, -6.48141205e-02,\n",
       "         7.00134933e-02, -1.31589519e-02,  2.93521248e-02,\n",
       "         3.88363749e-02, -7.14793522e-03,  7.61888623e-02,\n",
       "        -1.73191901e-03,  5.09594008e-03,  2.47925483e-02,\n",
       "        -3.85450497e-02,  6.47225324e-03, -4.33792397e-02,\n",
       "         2.85588838e-02, -7.28631020e-02,  8.89341757e-02,\n",
       "        -2.99380906e-02, -2.03230865e-02,  6.26224428e-02,\n",
       "         4.83429320e-02,  5.71647286e-02,  1.36547685e-02,\n",
       "         6.75947815e-02,  2.67763752e-02,  3.91899142e-03,\n",
       "         3.02104093e-02,  7.75388479e-02,  3.11408266e-02,\n",
       "         2.69902889e-02, -3.65878940e-02,  1.27396937e-02,\n",
       "        -8.44636280e-03],\n",
       "       [-3.30845756e-03,  2.06913101e-05, -1.88765372e-03,\n",
       "         2.65315990e-04, -8.00104928e-04, -1.76153835e-02,\n",
       "         1.40880719e-02,  2.87196860e-02, -1.33046303e-02,\n",
       "        -5.35351783e-03, -4.57387697e-03, -1.52685046e-02,\n",
       "         6.53456431e-04,  1.12179536e-02,  1.30143366e-03,\n",
       "        -3.00356071e-04,  9.42828599e-03, -9.65124462e-03,\n",
       "        -6.87836250e-03, -2.60903127e-02,  7.88535923e-03,\n",
       "         4.40684799e-03,  1.77049637e-03, -1.00461897e-02,\n",
       "        -4.44248877e-03, -4.20250697e-04, -8.41344520e-03,\n",
       "        -1.11751249e-02, -4.99569438e-03,  2.47713737e-03,\n",
       "         1.84496120e-02, -3.34137701e-04,  9.67250112e-03,\n",
       "        -1.71226691e-02, -5.86187048e-03,  1.79148447e-02,\n",
       "         3.97460023e-03, -4.85457294e-03,  1.63377298e-03,\n",
       "        -1.82726085e-02,  6.32066187e-03, -1.33178290e-02,\n",
       "        -3.40226432e-03,  4.59521962e-03,  9.59095359e-03,\n",
       "        -1.92426157e-03, -1.00174844e-02, -1.65564520e-03,\n",
       "         8.64868518e-03,  4.87009622e-03,  4.69179451e-03,\n",
       "        -9.82430391e-03,  1.50500867e-03,  9.24950000e-04,\n",
       "        -1.20825274e-03,  7.17048999e-03,  6.31560199e-03,\n",
       "         1.63848116e-03, -9.24285688e-03,  1.07175903e-02,\n",
       "         4.05800948e-03,  2.47201324e-03,  9.84725077e-03,\n",
       "         5.07850433e-04, -1.24435779e-02,  1.90391410e-02,\n",
       "         4.17081453e-03,  1.75857153e-02, -1.42891724e-02,\n",
       "         1.73103400e-02, -3.66804656e-03,  6.60822261e-03,\n",
       "         8.90007894e-03, -2.54616211e-03,  1.84109099e-02,\n",
       "        -9.25666653e-04,  1.25837699e-03,  5.98615501e-03,\n",
       "        -1.01256240e-02,  2.31447862e-03, -1.00953178e-02,\n",
       "         7.60883000e-03, -1.67313013e-02,  2.23992653e-02,\n",
       "        -8.24918691e-03, -3.87237314e-03,  1.28020812e-02,\n",
       "         1.14813186e-02,  1.40088815e-02,  1.36511959e-03,\n",
       "         1.47137139e-02,  6.84540998e-03,  1.51309883e-03,\n",
       "         7.98206311e-03,  2.02589016e-02,  8.49801488e-03,\n",
       "         7.92934559e-03, -9.18009039e-03,  3.18298023e-03,\n",
       "        -1.38081424e-03]], dtype=float32)"
      ]
     },
     "execution_count": 35,
     "metadata": {},
     "output_type": "execute_result"
    }
   ],
   "source": [
    "# 각 클러스터의 센트로이드(중심)\n",
    "kmeans.cluster_centers_"
   ]
  },
  {
   "cell_type": "code",
   "execution_count": 36,
   "metadata": {},
   "outputs": [
    {
     "data": {
      "text/plain": [
       "0.7787775993347168"
      ]
     },
     "execution_count": 36,
     "metadata": {},
     "output_type": "execute_result"
    }
   ],
   "source": [
    "# 이너셔(inertia): 각 샘플과 가장 가까운 센트로이드 사이의 평균 제곱 거리\n",
    "kmeans.inertia_"
   ]
  },
  {
   "cell_type": "code",
   "execution_count": 37,
   "metadata": {},
   "outputs": [
    {
     "data": {
      "text/plain": [
       "DBSCAN(eps=0.05)"
      ]
     },
     "execution_count": 37,
     "metadata": {},
     "output_type": "execute_result"
    }
   ],
   "source": [
    "from sklearn.cluster import DBSCAN\n",
    "\n",
    "dbscan = DBSCAN(eps=0.05, min_samples=5)\n",
    "dbscan.fit(model.wv.vectors)"
   ]
  },
  {
   "cell_type": "code",
   "execution_count": 38,
   "metadata": {},
   "outputs": [
    {
     "data": {
      "text/plain": [
       "array([-1, -1, -1, -1, -1, -1, -1, -1, -1, -1], dtype=int64)"
      ]
     },
     "execution_count": 38,
     "metadata": {},
     "output_type": "execute_result"
    }
   ],
   "source": [
    "# 각 샘플의 레이블: 핵심 샘플들의 인덱스 또는 이상치 인덱스(-1)\n",
    "dbscan.labels_[:10]"
   ]
  },
  {
   "cell_type": "code",
   "execution_count": 39,
   "metadata": {},
   "outputs": [
    {
     "data": {
      "text/plain": [
       "array([], dtype=int64)"
      ]
     },
     "execution_count": 39,
     "metadata": {},
     "output_type": "execute_result"
    }
   ],
   "source": [
    "# 핵심 샘플들의 인덱스\n",
    "dbscan.core_sample_indices_[:10]"
   ]
  },
  {
   "cell_type": "code",
   "execution_count": 40,
   "metadata": {},
   "outputs": [
    {
     "data": {
      "text/plain": [
       "array([], shape=(0, 100), dtype=float64)"
      ]
     },
     "execution_count": 40,
     "metadata": {},
     "output_type": "execute_result"
    }
   ],
   "source": [
    "# 핵심 샘플들\n",
    "dbscan.components_[:5]"
   ]
  },
  {
   "cell_type": "code",
   "execution_count": 41,
   "metadata": {},
   "outputs": [
    {
     "name": "stdout",
     "output_type": "stream",
     "text": [
      "0\n",
      "0\n"
     ]
    }
   ],
   "source": [
    "print(len(dbscan.core_sample_indices_))\n",
    "print(len(dbscan.components_))"
   ]
  },
  {
   "cell_type": "code",
   "execution_count": 42,
   "metadata": {},
   "outputs": [],
   "source": [
    "# scikit-learn을 이용한 병합 클러스터링\n",
    "from sklearn.cluster import AgglomerativeClustering\n",
    "\n",
    "agg = AgglomerativeClustering(n_clusters=5, linkage=\"complete\")\n",
    "agg = agg.fit(model.wv.vectors)"
   ]
  }
 ],
 "metadata": {
  "kernelspec": {
   "display_name": "mlclass",
   "language": "python",
   "name": "python3"
  },
  "language_info": {
   "codemirror_mode": {
    "name": "ipython",
    "version": 3
   },
   "file_extension": ".py",
   "mimetype": "text/x-python",
   "name": "python",
   "nbconvert_exporter": "python",
   "pygments_lexer": "ipython3",
   "version": "3.9.13"
  },
  "orig_nbformat": 4,
  "vscode": {
   "interpreter": {
    "hash": "85735caf4e6e0dd84b0a1f58026c5c5e4f424c50f40ed4819c7fe7c26d3c34bf"
   }
  }
 },
 "nbformat": 4,
 "nbformat_minor": 2
}
